{
 "cells": [
  {
   "cell_type": "code",
   "execution_count": 1,
   "id": "3e2c0c51-5142-473a-a026-f5d7aae82e52",
   "metadata": {
    "tags": []
   },
   "outputs": [
    {
     "name": "stderr",
     "output_type": "stream",
     "text": [
      "/Library/Frameworks/Python.framework/Versions/3.10/lib/python3.10/site-packages/web3/contract/base_contract.py:882: UserWarning: The log with transaction hash: HexBytes('0x13f1c6396cca99e64e39e7ec7ed3cf9a3c8e8e4ae92a504681c0682a24e85d6b') and logIndex: 0 encountered the following error during processing: MismatchedABI(The event signature did not match the provided ABI). It has been discarded.\n",
      "  warnings.warn(\n",
      "/Library/Frameworks/Python.framework/Versions/3.10/lib/python3.10/site-packages/web3/contract/base_contract.py:882: UserWarning: The log with transaction hash: HexBytes('0x13f1c6396cca99e64e39e7ec7ed3cf9a3c8e8e4ae92a504681c0682a24e85d6b') and logIndex: 1 encountered the following error during processing: MismatchedABI(The event signature did not match the provided ABI). It has been discarded.\n",
      "  warnings.warn(\n",
      " 80%|██████████████████████████████████████████████████████████████████████████████████████████████████████████████████████████████████████▍                                 | 8/10 [00:08<00:02,  1.06s/it]"
     ]
    },
    {
     "name": "stdout",
     "output_type": "stream",
     "text": [
      "  > Result URL: https://ipfs.io/ipfs/Qmc92SGkmqj3Y7pU7D9upKWTDP8ZASxMgbdaePBdqHEjtd\n",
      "Result: [1 1 1 0 0 0]\n",
      "IPFS url of result: https://ipfs.io/ipfs/Qmc92SGkmqj3Y7pU7D9upKWTDP8ZASxMgbdaePBdqHEjtd\n"
     ]
    },
    {
     "name": "stderr",
     "output_type": "stream",
     "text": [
      "\n"
     ]
    }
   ],
   "source": [
    "import pickle\n",
    "import freewillai\n",
    "\n",
    "# [OPTIONAL] You can connect freewillai to a custom provider\n",
    "freewillai.connect(\"http://localhost:8545\")\n",
    "\n",
    "# Load your model and dataset\n",
    "model_path = 'bucket/test/models/sklearn_model.pkl'\n",
    "model =  pickle.load(open(model_path, \"rb\"))\n",
    "dataset = 'bucket/test/datasets/dummy_data_set_sklearn.csv'\n",
    "\n",
    "# Run AI on blockchain\n",
    "result = await freewillai.run_task(model, dataset, verbose=True)\n",
    "\n",
    "print('Result:', result.data)\n",
    "print('IPFS url of result:', result.url)"
   ]
  },
  {
   "cell_type": "code",
   "execution_count": null,
   "id": "4ec6e1ca-555d-45de-81b6-360b2578adc5",
   "metadata": {},
   "outputs": [],
   "source": []
  }
 ],
 "metadata": {
  "kernelspec": {
   "display_name": "Python 3 (ipykernel)",
   "language": "python",
   "name": "python3"
  },
  "language_info": {
   "codemirror_mode": {
    "name": "ipython",
    "version": 3
   },
   "file_extension": ".py",
   "mimetype": "text/x-python",
   "name": "python",
   "nbconvert_exporter": "python",
   "pygments_lexer": "ipython3",
   "version": "3.10.10"
  }
 },
 "nbformat": 4,
 "nbformat_minor": 5
}
