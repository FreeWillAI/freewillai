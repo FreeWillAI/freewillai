{
 "cells": [
  {
   "cell_type": "code",
   "execution_count": 1,
   "id": "3e2c0c51-5142-473a-a026-f5d7aae82e52",
   "metadata": {
    "tags": []
   },
   "outputs": [],
   "source": [
    "import pickle\n",
    "import freewillai\n",
    "\n",
    "# [OPTIONAL] You can connect freewillai to a custom provider\n",
    "freewillai.connect(\"http://localhost:8545\")\n",
    "\n",
    "# Load your model and dataset\n",
    "model_path = 'bucket/test/models/sklearn_model.pkl'\n",
    "model =  pickle.load(open(model_path, \"rb\"))\n",
    "dataset = 'bucket/test/datasets/dummy_data_set_sklearn.csv'\n",
    "\n",
    "# Run AI on blockchain\n",
    "result = await freewillai.run_task(model, dataset, verbose=True)\n",
    "\n",
    "print('Result:', result.data)\n",
    "print('IPFS url of result:', result.url)"
   ]
  },
  {
   "cell_type": "code",
   "execution_count": null,
   "id": "4ec6e1ca-555d-45de-81b6-360b2578adc5",
   "metadata": {},
   "outputs": [],
   "source": []
  }
 ],
 "metadata": {
  "kernelspec": {
   "display_name": "Python 3 (ipykernel)",
   "language": "python",
   "name": "python3"
  },
  "language_info": {
   "codemirror_mode": {
    "name": "ipython",
    "version": 3
   },
   "file_extension": ".py",
   "mimetype": "text/x-python",
   "name": "python",
   "nbconvert_exporter": "python",
   "pygments_lexer": "ipython3",
   "version": "3.9.6"
  }
 },
 "nbformat": 4,
 "nbformat_minor": 5
}
